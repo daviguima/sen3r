{
 "cells": [
  {
   "cell_type": "code",
   "execution_count": 6,
   "metadata": {},
   "outputs": [],
   "source": [
    "# https://ipython.org/ipython-doc/3/config/extensions/autoreload.html"
   ]
  },
  {
   "cell_type": "code",
   "execution_count": 1,
   "metadata": {},
   "outputs": [],
   "source": [
    "import sen3r"
   ]
  },
  {
   "cell_type": "code",
   "execution_count": 2,
   "metadata": {},
   "outputs": [],
   "source": [
    "from sen3r import commons"
   ]
  },
  {
   "cell_type": "code",
   "execution_count": 3,
   "metadata": {},
   "outputs": [],
   "source": [
    "dd = commons.DefaultDicts()"
   ]
  },
  {
   "cell_type": "code",
   "execution_count": 5,
   "metadata": {},
   "outputs": [
    {
     "data": {
      "text/plain": [
       "{0: 'INVALID',\n",
       " 1: 'WATER',\n",
       " 2: 'LAND',\n",
       " 3: 'CLOUD',\n",
       " 23: 'CLOUD_AMBIGUOUS',\n",
       " 24: 'CLOUD_MARGIN',\n",
       " 4: 'SNOW_ICE',\n",
       " 5: 'INLAND_WATER',\n",
       " 6: 'TIDAL',\n",
       " 7: 'COSMETIC',\n",
       " 8: 'SUSPECT',\n",
       " 9: 'HISOLZEN',\n",
       " 10: 'SATURATED',\n",
       " 11: 'MEGLINT',\n",
       " 12: 'HIGHGLINT',\n",
       " 13: 'WHITECAPS',\n",
       " 14: 'ADJAC',\n",
       " 15: 'WV_FAIL',\n",
       " 16: 'PAR_FAIL',\n",
       " 17: 'AC_FAIL',\n",
       " 18: 'OC4ME_FAIL',\n",
       " 19: 'OCNN_FAIL',\n",
       " 21: 'KDM_FAIL',\n",
       " 25: 'BPAC_ON',\n",
       " 26: 'WHITE_SCATT',\n",
       " 27: 'LOWRW',\n",
       " 28: 'HIGHRW',\n",
       " 32: 'ANNOT_ANGSTROM',\n",
       " 33: 'ANNOT_AERO_B',\n",
       " 34: 'ANNOT_ABSO_D',\n",
       " 35: 'ANNOT_ACLIM',\n",
       " 36: 'ANNOT_ABSOA',\n",
       " 37: 'ANNOT_MIXR1',\n",
       " 38: 'ANNOT_DROUT',\n",
       " 39: 'ANNOT_TAU06',\n",
       " 40: 'RWNEG_O1',\n",
       " 41: 'RWNEG_O2',\n",
       " 42: 'RWNEG_O3',\n",
       " 43: 'RWNEG_O4',\n",
       " 44: 'RWNEG_O5',\n",
       " 45: 'RWNEG_O6',\n",
       " 46: 'RWNEG_O7',\n",
       " 47: 'RWNEG_O8',\n",
       " 48: 'RWNEG_O9',\n",
       " 49: 'RWNEG_O10',\n",
       " 50: 'RWNEG_O11',\n",
       " 51: 'RWNEG_O12',\n",
       " 52: 'RWNEG_O16',\n",
       " 53: 'RWNEG_O17',\n",
       " 54: 'RWNEG_O18',\n",
       " 55: 'RWNEG_O21'}"
      ]
     },
     "execution_count": 5,
     "metadata": {},
     "output_type": "execute_result"
    }
   ],
   "source": [
    "dd.wfr_bin2flags"
   ]
  },
  {
   "cell_type": "code",
   "execution_count": null,
   "metadata": {},
   "outputs": [],
   "source": []
  }
 ],
 "metadata": {
  "kernelspec": {
   "display_name": "Python 3",
   "language": "python",
   "name": "python3"
  },
  "language_info": {
   "codemirror_mode": {
    "name": "ipython",
    "version": 3
   },
   "file_extension": ".py",
   "mimetype": "text/x-python",
   "name": "python",
   "nbconvert_exporter": "python",
   "pygments_lexer": "ipython3",
   "version": "3.6.10"
  }
 },
 "nbformat": 4,
 "nbformat_minor": 4
}
