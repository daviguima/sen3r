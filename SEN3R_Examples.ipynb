{
 "cells": [
  {
   "cell_type": "code",
   "execution_count": 1,
   "metadata": {},
   "outputs": [],
   "source": [
    "%load_ext autoreload\n",
    "%autoreload 2\n",
    "\n",
    "import matplotlib.pyplot as plt\n",
    "\n",
    "from sen3r.sen3r import Core\n",
    "from sen3r.nc_engine import NcEngine\n",
    "from sen3r.commons import Utils\n",
    "from pathlib import Path"
   ]
  },
  {
   "cell_type": "markdown",
   "metadata": {},
   "source": [
    "## Running SEN3R with a single WFR image"
   ]
  },
  {
   "cell_type": "code",
   "execution_count": 2,
   "metadata": {},
   "outputs": [
    {
     "data": {
      "text/plain": [
       "{'input': WindowsPath('D:/S3/sen3r_wfr_test/S3A_OL_2_WFR____20160522T134229_20160522T134429_20171031T210832_0119_004_238______MR1_R_NT_002.SEN3'),\n",
       " 'out': WindowsPath('D:/sen3r_out'),\n",
       " 'roi': WindowsPath('D:/A1_JM/areas/paper_areas/14100000_manacapuru.geojson'),\n",
       " 'product': 'wfr'}"
      ]
     },
     "execution_count": 2,
     "metadata": {},
     "output_type": "execute_result"
    }
   ],
   "source": [
    "# TESTING SINGLE IMAGE PROCESSING\n",
    "args = {}\n",
    "\n",
    "args['input'] = Path('D:/S3/sen3r_wfr_test/S3A_OL_2_WFR____20160522T134229_20160522T134429_20171031T210832_0119_004_238______MR1_R_NT_002.SEN3')\n",
    "args['out'] = Path('D:/sen3r_out/')\n",
    "args['roi'] = Path('D:/A1_JM/areas/paper_areas/14100000_manacapuru.geojson')\n",
    "args['product'] = 'wfr'\n",
    "args"
   ]
  },
  {
   "cell_type": "code",
   "execution_count": 3,
   "metadata": {},
   "outputs": [],
   "source": [
    "s3r = Core(args)"
   ]
  },
  {
   "cell_type": "code",
   "execution_count": 139,
   "metadata": {},
   "outputs": [
    {
     "name": "stderr",
     "output_type": "stream",
     "text": [
      "INFO:D:\\sen3r_out\\sen3r_20211101T155557.log:Searching for WFR file inside: D:\\S3\\sen3r_wfr_test\\S3A_OL_2_WFR____20160522T134229_20160522T134429_20171031T210832_0119_004_238______MR1_R_NT_002.SEN3\n",
      "INFO:D:\\sen3r_out\\sen3r_20211101T155557.log:Generating ancillary data folder: D:\\sen3r_out\\CSV_N1\n",
      "INFO:D:\\sen3r_out\\sen3r_20211101T155557.log:Attempting to extract geometries from: D:\\A1_JM\\areas\\paper_areas\\14100000_manacapuru.geojson\n",
      "INFO:D:\\sen3r_out\\sen3r_20211101T155557.log:4428 - Initializing geometries for: S3A_OL_2_WFR____20160522T134229_20160522T134429_20171031T210832_0119_004_238______MR1_R_NT_002\n",
      "INFO:D:\\sen3r_out\\sen3r_20211101T155557.log:Converting the polygon coordinates into a matrix x,y poly...\n",
      "INFO:D:\\sen3r_out\\sen3r_20211101T155557.log:Saving DF at : D:\\sen3r_out\\CSV_N1\\S3A_OL_2_WFR____20160522T134229_20160522T134429_20171031T210832_0119_004_238______MR1_R_NT_002.csv\n"
     ]
    },
    {
     "name": "stdout",
     "output_type": "stream",
     "text": [
      "Wall time: 17.5 s\n"
     ]
    }
   ],
   "source": [
    "%%time\n",
    "band_data, img_data, doneList = s3r.build_single_file()"
   ]
  },
  {
   "cell_type": "markdown",
   "metadata": {
    "tags": []
   },
   "source": [
    "## For a folder of WFR images"
   ]
  },
  {
   "cell_type": "code",
   "execution_count": 22,
   "metadata": {},
   "outputs": [],
   "source": [
    "mt_args = {}\n",
    "\n",
    "mt_args['input'] = Path('D:/S3/sen3r_wfr_test/')\n",
    "mt_args['out'] = Path('D:/sen3r_out/')\n",
    "mt_args['roi'] = Path('D:/A1_JM/areas/paper_areas/14100000_manacapuru.geojson')\n",
    "mt_args['product'] = 'wfr'\n",
    "mt_args\n",
    "\n",
    "s3r = Core(mt_args)"
   ]
  },
  {
   "cell_type": "code",
   "execution_count": null,
   "metadata": {},
   "outputs": [],
   "source": [
    "%%time\n",
    "doneList = s3r.build_intermediary_files()"
   ]
  },
  {
   "cell_type": "code",
   "execution_count": 24,
   "metadata": {},
   "outputs": [
    {
     "data": {
      "text/plain": [
       "['D:\\\\amigos\\\\laura_cuba\\\\sen3r_out\\\\AUX_DATA\\\\S3B_OL_2_WFR____20211001T151242_20211001T151542_20211003T044606_0179_057_296_2520_MAR_O_NT_003.csv']"
      ]
     },
     "execution_count": 24,
     "metadata": {},
     "output_type": "execute_result"
    }
   ],
   "source": [
    "doneList"
   ]
  }
 ],
 "metadata": {
  "kernelspec": {
   "display_name": "Python 3 (ipykernel)",
   "language": "python",
   "name": "python3"
  },
  "language_info": {
   "codemirror_mode": {
    "name": "ipython",
    "version": 3
   },
   "file_extension": ".py",
   "mimetype": "text/x-python",
   "name": "python",
   "nbconvert_exporter": "python",
   "pygments_lexer": "ipython3",
   "version": "3.9.7"
  }
 },
 "nbformat": 4,
 "nbformat_minor": 4
}
